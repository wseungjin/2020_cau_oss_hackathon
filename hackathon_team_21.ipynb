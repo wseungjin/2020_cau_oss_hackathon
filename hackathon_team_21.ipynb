{
  "nbformat": 4,
  "nbformat_minor": 0,
  "metadata": {
    "accelerator": "GPU",
    "colab": {
      "name": "hackathon_team_21",
      "provenance": [],
      "collapsed_sections": [
        "1AosAX9DXOlc"
      ],
      "toc_visible": true,
      "include_colab_link": true
    },
    "kernelspec": {
      "display_name": "Python 3",
      "language": "python",
      "name": "python3"
    },
    "language_info": {
      "codemirror_mode": {
        "name": "ipython",
        "version": 3
      },
      "file_extension": ".py",
      "mimetype": "text/x-python",
      "name": "python",
      "nbconvert_exporter": "python",
      "pygments_lexer": "ipython3",
      "version": "3.7.4"
    }
  },
  "cells": [
    {
      "cell_type": "markdown",
      "metadata": {
        "id": "view-in-github",
        "colab_type": "text"
      },
      "source": [
        "<a href=\"https://colab.research.google.com/github/wseungjin/2020_cau_oss_hackathon/blob/master/hackathon_team_21.ipynb\" target=\"_parent\"><img src=\"https://colab.research.google.com/assets/colab-badge.svg\" alt=\"Open In Colab\"/></a>"
      ]
    },
    {
      "cell_type": "markdown",
      "metadata": {
        "colab_type": "text",
        "id": "1AosAX9DXOlc"
      },
      "source": [
        "# **0. 해커톤 진행 주의사항**\n",
        "\n",
        "**1)  개발 관련 주의사항**\n",
        "*   [1. 초기 환경 설정]은 절대 수정하지 말 것\n",
        "*   모든 구현은 [2. 데이터 전처리] 및 [3.모델 생성]에서만 진행\n",
        "*   [4. 모델 저장]에서 team_name 변수 변경 (예.`team_name = 'team01'`)\n",
        " *    트레이닝 중간에 checkpoint를 활용하여 모델을 저장한 경우에도 파일 이름 양식 통일 필수\n",
        "*   Colab 사용중 실수로 데이터 손실이 발생할 수도 있으니 중간 결과값을 github에 업로드 \n",
        " *    \"런타임->모든 런타임 재설정\"은 절대 누르지 말 것 (저장한 모델 데이터가 모두 삭제됨)\n",
        "*   효율적인 구현 및 테스팅을 위해 GPU 가속 기능 활성화\n",
        " *    \"런타임 -> 런타임 유형변경 -> 하드웨어 가속기 -> GPU 설정\"\n",
        "*   주석을 최대한 자세히 작성\n",
        "*   Keras API 관련하여 [Keras Documentation](https://keras.io/) 참조\n",
        "\n",
        "**2) 제출 관련 주의사항**\n",
        "*  제출물\n",
        " *  소스코드 (hackathon_teamXX.ipynb)\n",
        " *  컴파일된 모델 파일 (model_entire_teamXX.h5)\n",
        " *  모델 발표 자료 \n",
        "* 제출 기한: **오후 5시 (단, 발표자료는 11시)**\n",
        "* 제출 방법: [GitHub README](https://github.com/cauosshackathonta/2020_cau_oss_hackathon/) 참조\n",
        "\n",
        " \n",
        "**3) 평가 관련 주의사항**\n",
        "*  모델 성능 = 테스트 데이터 셋 분류 정확도\n",
        " *  model.evaluate(x_test, y_test)\n",
        "*  제출된 모델들의 테스트 데이터 셋 분류 정확도를 기준으로 수상작 결정\n",
        "*  수상 후보들에 대해서는 소스코드를 기반으로 모델 재검증 \n",
        " \n",
        "**4) 수상 실격 사유**\n",
        "*  유사한 소스코드 or 알고리즘이 적발될 경우\n",
        "*  소스코드와 제출된 모델이 상이한 경우\n",
        "*  개발 관련 주의사항을 지키지 않은 경우\n",
        " *  예: [초기 환경 설정]을 수정한 경우\n",
        "*  데이터 셋을 변조한 경우\n",
        " *  예. 테스트 데이터 셋을 트레이닝 데이터 셋에 포함하여 모델 생성 \n",
        "*  주석이 소스코드와 맞지 않거나 미비할 경우\n",
        "\n",
        "\n",
        "\n",
        "\n"
      ]
    },
    {
      "cell_type": "markdown",
      "metadata": {
        "colab_type": "text",
        "id": "67lwEXhUqys1"
      },
      "source": [
        "# **1. 초기 환경 설정**\n",
        "\n"
      ]
    },
    {
      "cell_type": "code",
      "metadata": {
        "colab_type": "code",
        "id": "Ms5PBBJ1qSC6",
        "colab": {}
      },
      "source": [
        "from __future__ import absolute_import, division, print_function, unicode_literals, unicode_literals\n",
        "\n",
        "# tensorflow와 tf.keras 및 관련 라이브러리 임포트\n",
        "import tensorflow as tf\n",
        "from tensorflow import keras\n",
        "from keras.utils import np_utils\n",
        "\n",
        "import numpy as np\n",
        "\n",
        "# 데이터셋 다운로드\n",
        "check = !if [ -d 'dataset/' ]; then echo \"1\" ; else echo \"0\"; fi\n",
        "if (check[0] is '0' ):\n",
        "  !mkdir dataset\n",
        "  !wget 'https://www.itl.nist.gov/iaui/vip/cs_links/EMNIST/matlab.zip'\n",
        "  !unzip matlab.zip -d /content/dataset\n",
        "\n",
        "# 데이터셋 로드\n",
        "from scipy import io as spio\n",
        "emnist = spio.loadmat(\"/content/dataset/matlab/emnist-balanced.mat\")\n",
        "\n",
        "x_train = emnist[\"dataset\"][0][0][0][0][0][0]\n",
        "y_train = emnist[\"dataset\"][0][0][0][0][0][1]\n",
        "\n",
        "x_test = emnist[\"dataset\"][0][0][1][0][0][0]\n",
        "y_test = emnist[\"dataset\"][0][0][1][0][0][1]\n",
        "\n",
        "# # 분류를 위해 클래스 벡터를 바이너리 매트릭스로 변환\n",
        "y_train = np_utils.to_categorical(y_train)\n",
        "y_test = np_utils.to_categorical(y_test)\n",
        "\n",
        "# 데이터 28x28 이미지화\n",
        "x_train = x_train.reshape(x_train.shape[0], 28, 28, 1).astype('float32')\n",
        "x_test = x_test.reshape(x_test.shape[0], 28, 28, 1).astype('float32')\n",
        "\n",
        "# 총 클래스 개수\n",
        "num_classes = y_test.shape[1]\n",
        "input_shape = x_test.shape[1:]"
      ],
      "execution_count": 1,
      "outputs": []
    },
    {
      "cell_type": "markdown",
      "metadata": {
        "colab_type": "text",
        "id": "A-YjppJpXBO9"
      },
      "source": [
        "# **2. 데이터 전처리**\n",
        "\n"
      ]
    },
    {
      "cell_type": "markdown",
      "metadata": {
        "id": "-o32ARzbX1WM",
        "colab_type": "text"
      },
      "source": [
        "### Normalization"
      ]
    },
    {
      "cell_type": "code",
      "metadata": {
        "colab_type": "code",
        "id": "QZ9KWTBP6AI1",
        "colab": {}
      },
      "source": [
        "# 기본적인 normalization\n",
        "x_train_after = x_train / 255.0\n",
        "x_test_after = x_test / 255.0"
      ],
      "execution_count": 2,
      "outputs": []
    },
    {
      "cell_type": "markdown",
      "metadata": {
        "id": "F1kdNNWzX-3u",
        "colab_type": "text"
      },
      "source": [
        "### image augmentation"
      ]
    },
    {
      "cell_type": "code",
      "metadata": {
        "id": "yXHRrb5FzdaJ",
        "colab_type": "code",
        "colab": {
          "base_uri": "https://localhost:8080/",
          "height": 71
        },
        "outputId": "efe02e0c-dd94-46cb-f0ad-19ba25dd5368"
      },
      "source": [
        "from keras.preprocessing.image import ImageDataGenerator\n",
        "\n",
        "# 새로운 이미지들을 생성\n",
        "# rotatation range 10내의 각도 변화 가능\n",
        "# zomm 0.05 가능\n",
        "# weight, height shift 0.05 가능\n",
        "# flip 하지않음\n",
        "# whitening 시킴\n",
        "image_generator = ImageDataGenerator(\n",
        "            rotation_range=10,\n",
        "            zoom_range = 0.05, \n",
        "            width_shift_range=0.05,\n",
        "            height_shift_range=0.05,\n",
        "            horizontal_flip=False,\n",
        "            vertical_flip=False, \n",
        "            data_format=\"channels_last\",\n",
        "            zca_whitening=True)\n",
        "\n",
        "image_generator.fit(x_train_after, augment=True)\n",
        "\n",
        "# 새로 조건을 넣어서 생성할 이미지 개수 \n",
        "augment_size = 100000\n",
        "\n",
        "# 트레인 사이즈\n",
        "train_size = x_train_after.shape[0]\n",
        "\n",
        "# 이미지 생성 \n",
        "randidx = np.random.randint(train_size, size=augment_size)\n",
        "x_augmented = x_train_after[randidx].copy()\n",
        "y_augmented = y_train[randidx].copy()\n",
        "x_augmented = image_generator.flow(x_augmented, np.zeros(augment_size),\n",
        "                            batch_size=augment_size, shuffle=False).next()[0]\n",
        "\n",
        "# 기존 데이터 + 추가된 이미 합침\n",
        "x_train_after = np.concatenate((x_train_after, x_augmented))\n",
        "y_train = np.concatenate((y_train, y_augmented))\n",
        "\n",
        "# 트레인 사이즈\n",
        "train_size = x_train_after.shape[0]"
      ],
      "execution_count": 3,
      "outputs": [
        {
          "output_type": "stream",
          "text": [
            "/usr/local/lib/python3.6/dist-packages/keras_preprocessing/image/image_data_generator.py:337: UserWarning: This ImageDataGenerator specifies `zca_whitening`, which overrides setting of `featurewise_center`.\n",
            "  warnings.warn('This ImageDataGenerator specifies '\n"
          ],
          "name": "stderr"
        }
      ]
    },
    {
      "cell_type": "markdown",
      "metadata": {
        "colab_type": "text",
        "id": "v-lo-O1yiFpY"
      },
      "source": [
        "# **3. 모델 생성**"
      ]
    },
    {
      "cell_type": "markdown",
      "metadata": {
        "id": "xROH1OYvYIYJ",
        "colab_type": "text"
      },
      "source": [
        "### Model structure"
      ]
    },
    {
      "cell_type": "code",
      "metadata": {
        "colab_type": "code",
        "id": "DZP4eRmRqgRp",
        "colab": {}
      },
      "source": [
        "from keras.models import Sequential\n",
        "from keras.layers import Dense, Conv2D, MaxPooling2D, Dropout, Flatten, LeakyReLU, Activation\n",
        "from keras.layers.normalization import BatchNormalization\n",
        "\n",
        "\n",
        "# 순차 모델 생성 (가장 기본구조)\n",
        "model = Sequential()\n",
        "\n",
        "\n",
        "# 1st hidden layer: CNN layer\n",
        "# 초기 학습을 빠르게 하기 위하여 glorot_uniform으로 값을 초기화 한다.\n",
        "# CNN 과정 중에 shrink되기 때문에 패딩을 same으로 해준다.\n",
        "model.add(Conv2D(32, kernel_size=(3, 3),  padding='same', input_shape=input_shape, kernel_initializer='glorot_uniform'))\n",
        "# gradient를 스무스하게 하기 위하여 BatchNormalization을 사용하였다.\n",
        "model.add(BatchNormalization())\n",
        "# gradient vanishment를 피하기 위하여 LeakyReLU를 사용하였다.\n",
        "model.add(LeakyReLU(alpha=0.01))\n",
        "\n",
        "# 2st hidden layer: CNN layer\n",
        "model.add(Conv2D(32, (3,3), padding='same', kernel_initializer='glorot_uniform'))\n",
        "model.add(BatchNormalization())\n",
        "model.add(LeakyReLU(alpha=0.01))\n",
        "\n",
        "# overfitting 문제를 해결하기 위하여 Dropout 기법을 사용하였다.\n",
        "model.add(Dropout(0.1))\n",
        "\n",
        "# 3st hidden layer: CNN layer\n",
        "model.add(Conv2D(64, kernel_size=(3, 3),  padding='same', kernel_initializer='glorot_uniform'))\n",
        "model.add(BatchNormalization())\n",
        "model.add(LeakyReLU(alpha=0.01))\n",
        "\n",
        "# 4st hidden layer: CNN layer\n",
        "model.add(Conv2D(64, (3,3),  padding='same', kernel_initializer='glorot_uniform'))\n",
        "model.add(BatchNormalization())\n",
        "model.add(LeakyReLU(alpha=0.01))      \n",
        "model.add(MaxPooling2D(pool_size=(2,2)))\n",
        "\n",
        "model.add(Dropout(0.2))\n",
        "\n",
        "# 5st hidden layer: CNN layer\n",
        "model.add(Conv2D(64, kernel_size=(3, 3),  padding='same', kernel_initializer='glorot_uniform'))\n",
        "model.add(BatchNormalization())\n",
        "model.add(LeakyReLU(alpha=0.01))\n",
        "\n",
        "# 6st hidden layer: CNN layer\n",
        "model.add(Conv2D(64, (3,3),  padding='same', kernel_initializer='glorot_uniform'))\n",
        "model.add(BatchNormalization())\n",
        "model.add(LeakyReLU(alpha=0.01))      \n",
        "\n",
        "model.add(Dropout(0.25))\n",
        "\n",
        "# 7st hidden layer: CNN layer\n",
        "model.add(Conv2D(64, kernel_size=(3, 3),  padding='same', kernel_initializer='glorot_uniform'))\n",
        "model.add(BatchNormalization())\n",
        "model.add(LeakyReLU(alpha=0.01))\n",
        "\n",
        "# 8st hidden layer: CNN layer\n",
        "model.add(Conv2D(64, (3,3),  padding='same', kernel_initializer='glorot_uniform'))\n",
        "model.add(BatchNormalization())\n",
        "model.add(LeakyReLU(alpha=0.01))    \n",
        "model.add(MaxPooling2D(pool_size=(2,2)))\n",
        "\n",
        "model.add(Dropout(0.25))\n",
        "\n",
        "# 9st hidden layer: CNN layer\n",
        "model.add(Conv2D(128, kernel_size=(3, 3),  padding='same', kernel_initializer='glorot_uniform'))\n",
        "model.add(BatchNormalization())\n",
        "model.add(LeakyReLU(alpha=0.01))\n",
        "\n",
        "# 10st hidden layer: CNN layer\n",
        "model.add(Conv2D(128, (3,3),  padding='same', kernel_initializer='glorot_uniform'))\n",
        "model.add(BatchNormalization())\n",
        "model.add(LeakyReLU(alpha=0.01))          \n",
        "model.add(MaxPooling2D(pool_size=(2,2)))\n",
        "model.add(Dropout(0.25))\n",
        "\n",
        "# Flatten layer: fully connected layer에 사용하기 위하여 1D vector로 만든다.\n",
        "model.add(Flatten())\n",
        "          \n",
        "model.add(Dropout(0.5))\n",
        "\n",
        "# Output layer: fully-connected layer를 이용하여 output값을 classify한다.\n",
        "model.add(Dense(num_classes))\n",
        "model.add(BatchNormalization())\n",
        "model.add(Activation('softmax'))\n",
        "\n",
        "# 모델 컴파일\n",
        "# optimizer: 모델을 업데이트 하는 방식\n",
        "# loss: 모델의 정확도를 판단하는 방식\n",
        "# metrics: 트레이닝 및 테스팅 성능 모니터링을 위한 평가지표\n",
        "model.compile(loss='categorical_crossentropy', optimizer='adam', metrics=['accuracy'])"
      ],
      "execution_count": 4,
      "outputs": []
    },
    {
      "cell_type": "markdown",
      "metadata": {
        "id": "dbo4El7W5YGk",
        "colab_type": "text"
      },
      "source": [
        "### 모델 요약"
      ]
    },
    {
      "cell_type": "code",
      "metadata": {
        "id": "k0TJMDKk5T0h",
        "colab_type": "code",
        "colab": {
          "base_uri": "https://localhost:8080/",
          "height": 1000
        },
        "outputId": "07bbec23-6ed9-49dc-b510-2b78a6934389"
      },
      "source": [
        "model.summary()"
      ],
      "execution_count": 12,
      "outputs": [
        {
          "output_type": "stream",
          "text": [
            "Model: \"sequential\"\n",
            "_________________________________________________________________\n",
            "Layer (type)                 Output Shape              Param #   \n",
            "=================================================================\n",
            "conv2d (Conv2D)              (None, 28, 28, 32)        320       \n",
            "_________________________________________________________________\n",
            "batch_normalization (BatchNo (None, 28, 28, 32)        128       \n",
            "_________________________________________________________________\n",
            "leaky_re_lu (LeakyReLU)      (None, 28, 28, 32)        0         \n",
            "_________________________________________________________________\n",
            "conv2d_1 (Conv2D)            (None, 28, 28, 32)        9248      \n",
            "_________________________________________________________________\n",
            "batch_normalization_1 (Batch (None, 28, 28, 32)        128       \n",
            "_________________________________________________________________\n",
            "leaky_re_lu_1 (LeakyReLU)    (None, 28, 28, 32)        0         \n",
            "_________________________________________________________________\n",
            "dropout (Dropout)            (None, 28, 28, 32)        0         \n",
            "_________________________________________________________________\n",
            "conv2d_2 (Conv2D)            (None, 28, 28, 64)        18496     \n",
            "_________________________________________________________________\n",
            "batch_normalization_2 (Batch (None, 28, 28, 64)        256       \n",
            "_________________________________________________________________\n",
            "leaky_re_lu_2 (LeakyReLU)    (None, 28, 28, 64)        0         \n",
            "_________________________________________________________________\n",
            "conv2d_3 (Conv2D)            (None, 28, 28, 64)        36928     \n",
            "_________________________________________________________________\n",
            "batch_normalization_3 (Batch (None, 28, 28, 64)        256       \n",
            "_________________________________________________________________\n",
            "leaky_re_lu_3 (LeakyReLU)    (None, 28, 28, 64)        0         \n",
            "_________________________________________________________________\n",
            "max_pooling2d (MaxPooling2D) (None, 14, 14, 64)        0         \n",
            "_________________________________________________________________\n",
            "dropout_1 (Dropout)          (None, 14, 14, 64)        0         \n",
            "_________________________________________________________________\n",
            "conv2d_4 (Conv2D)            (None, 14, 14, 64)        36928     \n",
            "_________________________________________________________________\n",
            "batch_normalization_4 (Batch (None, 14, 14, 64)        256       \n",
            "_________________________________________________________________\n",
            "leaky_re_lu_4 (LeakyReLU)    (None, 14, 14, 64)        0         \n",
            "_________________________________________________________________\n",
            "conv2d_5 (Conv2D)            (None, 14, 14, 64)        36928     \n",
            "_________________________________________________________________\n",
            "batch_normalization_5 (Batch (None, 14, 14, 64)        256       \n",
            "_________________________________________________________________\n",
            "leaky_re_lu_5 (LeakyReLU)    (None, 14, 14, 64)        0         \n",
            "_________________________________________________________________\n",
            "dropout_2 (Dropout)          (None, 14, 14, 64)        0         \n",
            "_________________________________________________________________\n",
            "conv2d_6 (Conv2D)            (None, 14, 14, 64)        36928     \n",
            "_________________________________________________________________\n",
            "batch_normalization_6 (Batch (None, 14, 14, 64)        256       \n",
            "_________________________________________________________________\n",
            "leaky_re_lu_6 (LeakyReLU)    (None, 14, 14, 64)        0         \n",
            "_________________________________________________________________\n",
            "conv2d_7 (Conv2D)            (None, 14, 14, 64)        36928     \n",
            "_________________________________________________________________\n",
            "batch_normalization_7 (Batch (None, 14, 14, 64)        256       \n",
            "_________________________________________________________________\n",
            "leaky_re_lu_7 (LeakyReLU)    (None, 14, 14, 64)        0         \n",
            "_________________________________________________________________\n",
            "max_pooling2d_1 (MaxPooling2 (None, 7, 7, 64)          0         \n",
            "_________________________________________________________________\n",
            "dropout_3 (Dropout)          (None, 7, 7, 64)          0         \n",
            "_________________________________________________________________\n",
            "conv2d_8 (Conv2D)            (None, 7, 7, 128)         73856     \n",
            "_________________________________________________________________\n",
            "batch_normalization_8 (Batch (None, 7, 7, 128)         512       \n",
            "_________________________________________________________________\n",
            "leaky_re_lu_8 (LeakyReLU)    (None, 7, 7, 128)         0         \n",
            "_________________________________________________________________\n",
            "conv2d_9 (Conv2D)            (None, 7, 7, 128)         147584    \n",
            "_________________________________________________________________\n",
            "batch_normalization_9 (Batch (None, 7, 7, 128)         512       \n",
            "_________________________________________________________________\n",
            "leaky_re_lu_9 (LeakyReLU)    (None, 7, 7, 128)         0         \n",
            "_________________________________________________________________\n",
            "max_pooling2d_2 (MaxPooling2 (None, 3, 3, 128)         0         \n",
            "_________________________________________________________________\n",
            "dropout_4 (Dropout)          (None, 3, 3, 128)         0         \n",
            "_________________________________________________________________\n",
            "flatten (Flatten)            (None, 1152)              0         \n",
            "_________________________________________________________________\n",
            "dropout_5 (Dropout)          (None, 1152)              0         \n",
            "_________________________________________________________________\n",
            "dense (Dense)                (None, 47)                54191     \n",
            "_________________________________________________________________\n",
            "batch_normalization_10 (Batc (None, 47)                188       \n",
            "_________________________________________________________________\n",
            "activation (Activation)      (None, 47)                0         \n",
            "=================================================================\n",
            "Total params: 491,339\n",
            "Trainable params: 489,837\n",
            "Non-trainable params: 1,502\n",
            "_________________________________________________________________\n"
          ],
          "name": "stdout"
        }
      ]
    },
    {
      "cell_type": "markdown",
      "metadata": {
        "id": "dX7WCaAaYTJ0",
        "colab_type": "text"
      },
      "source": [
        "### 체크포인트"
      ]
    },
    {
      "cell_type": "code",
      "metadata": {
        "id": "ieS202I30pk6",
        "colab_type": "code",
        "colab": {}
      },
      "source": [
        "# 체크포인트 생성\n",
        "cp_callback = tf.keras.callbacks.ModelCheckpoint(filepath='/content/checkpoint_entire_best.h5', monitor='val_accuracy', verbose=1, save_weight_only=False, save_best_only=True, mode='auto')"
      ],
      "execution_count": 5,
      "outputs": []
    },
    {
      "cell_type": "markdown",
      "metadata": {
        "id": "Bi-bmpcqYVli",
        "colab_type": "text"
      },
      "source": [
        "### 학습"
      ]
    },
    {
      "cell_type": "code",
      "metadata": {
        "id": "2uOPH0z_0qYE",
        "colab_type": "code",
        "colab": {
          "base_uri": "https://localhost:8080/",
          "height": 1000
        },
        "outputId": "2da43a3d-d64e-420d-dbe8-24f666eccd2f"
      },
      "source": [
        "# 모델 트레이닝\n",
        "# batch_size: 전체 데이터셋 중 몇개씩 학습시킬 것인지# shuffle: 학습전에 트레이닝 데이터셋을 랜덤하게 섞을 것인지\n",
        "# validation_data: 중간 성능 검증에 사용할 data set\n",
        "history = model.fit(x_train_after, y_train, batch_size = 128, epochs = 100, shuffle=True, callbacks=[cp_callback], validation_data=(x_test_after, y_test))\n",
        "# epoch: 학습에 전체 데이터셋이 총 몇번 이용될 것인지\n"
      ],
      "execution_count": 6,
      "outputs": [
        {
          "output_type": "stream",
          "text": [
            "Epoch 1/100\n",
            "1663/1663 [==============================] - ETA: 0s - loss: 1.0125 - accuracy: 0.7484\n",
            "Epoch 00001: val_accuracy improved from -inf to 0.87133, saving model to /content/checkpoint_entire_best.h5\n",
            "1663/1663 [==============================] - 62s 37ms/step - loss: 1.0125 - accuracy: 0.7484 - val_loss: 0.3818 - val_accuracy: 0.8713\n",
            "Epoch 2/100\n",
            "1663/1663 [==============================] - ETA: 0s - loss: 0.4658 - accuracy: 0.8544\n",
            "Epoch 00002: val_accuracy improved from 0.87133 to 0.87936, saving model to /content/checkpoint_entire_best.h5\n",
            "1663/1663 [==============================] - 61s 37ms/step - loss: 0.4658 - accuracy: 0.8544 - val_loss: 0.3404 - val_accuracy: 0.8794\n",
            "Epoch 3/100\n",
            "1663/1663 [==============================] - ETA: 0s - loss: 0.4045 - accuracy: 0.8668\n",
            "Epoch 00003: val_accuracy improved from 0.87936 to 0.89160, saving model to /content/checkpoint_entire_best.h5\n",
            "1663/1663 [==============================] - 61s 37ms/step - loss: 0.4045 - accuracy: 0.8668 - val_loss: 0.3042 - val_accuracy: 0.8916\n",
            "Epoch 4/100\n",
            "1663/1663 [==============================] - ETA: 0s - loss: 0.3707 - accuracy: 0.8748\n",
            "Epoch 00004: val_accuracy improved from 0.89160 to 0.89170, saving model to /content/checkpoint_entire_best.h5\n",
            "1663/1663 [==============================] - 61s 37ms/step - loss: 0.3707 - accuracy: 0.8748 - val_loss: 0.3010 - val_accuracy: 0.8917\n",
            "Epoch 5/100\n",
            "1663/1663 [==============================] - ETA: 0s - loss: 0.3504 - accuracy: 0.8788\n",
            "Epoch 00005: val_accuracy improved from 0.89170 to 0.89181, saving model to /content/checkpoint_entire_best.h5\n",
            "1663/1663 [==============================] - 61s 37ms/step - loss: 0.3504 - accuracy: 0.8788 - val_loss: 0.3044 - val_accuracy: 0.8918\n",
            "Epoch 6/100\n",
            "1663/1663 [==============================] - ETA: 0s - loss: 0.3331 - accuracy: 0.8836\n",
            "Epoch 00006: val_accuracy improved from 0.89181 to 0.89340, saving model to /content/checkpoint_entire_best.h5\n",
            "1663/1663 [==============================] - 61s 37ms/step - loss: 0.3331 - accuracy: 0.8836 - val_loss: 0.3024 - val_accuracy: 0.8934\n",
            "Epoch 7/100\n",
            "1663/1663 [==============================] - ETA: 0s - loss: 0.3195 - accuracy: 0.8871\n",
            "Epoch 00007: val_accuracy improved from 0.89340 to 0.89777, saving model to /content/checkpoint_entire_best.h5\n",
            "1663/1663 [==============================] - 61s 37ms/step - loss: 0.3195 - accuracy: 0.8871 - val_loss: 0.2852 - val_accuracy: 0.8978\n",
            "Epoch 8/100\n",
            "1663/1663 [==============================] - ETA: 0s - loss: 0.3093 - accuracy: 0.8896\n",
            "Epoch 00008: val_accuracy did not improve from 0.89777\n",
            "1663/1663 [==============================] - 61s 37ms/step - loss: 0.3093 - accuracy: 0.8896 - val_loss: 0.2833 - val_accuracy: 0.8970\n",
            "Epoch 9/100\n",
            "1663/1663 [==============================] - ETA: 0s - loss: 0.2992 - accuracy: 0.8925\n",
            "Epoch 00009: val_accuracy improved from 0.89777 to 0.90027, saving model to /content/checkpoint_entire_best.h5\n",
            "1663/1663 [==============================] - 61s 37ms/step - loss: 0.2992 - accuracy: 0.8925 - val_loss: 0.2798 - val_accuracy: 0.9003\n",
            "Epoch 10/100\n",
            "1663/1663 [==============================] - ETA: 0s - loss: 0.2907 - accuracy: 0.8956\n",
            "Epoch 00010: val_accuracy improved from 0.90027 to 0.90128, saving model to /content/checkpoint_entire_best.h5\n",
            "1663/1663 [==============================] - 61s 37ms/step - loss: 0.2907 - accuracy: 0.8956 - val_loss: 0.2791 - val_accuracy: 0.9013\n",
            "Epoch 11/100\n",
            "1663/1663 [==============================] - ETA: 0s - loss: 0.2839 - accuracy: 0.8965\n",
            "Epoch 00011: val_accuracy improved from 0.90128 to 0.90245, saving model to /content/checkpoint_entire_best.h5\n",
            "1663/1663 [==============================] - 61s 37ms/step - loss: 0.2839 - accuracy: 0.8965 - val_loss: 0.2705 - val_accuracy: 0.9024\n",
            "Epoch 12/100\n",
            "1663/1663 [==============================] - ETA: 0s - loss: 0.2765 - accuracy: 0.8988\n",
            "Epoch 00012: val_accuracy did not improve from 0.90245\n",
            "1663/1663 [==============================] - 61s 37ms/step - loss: 0.2765 - accuracy: 0.8988 - val_loss: 0.2787 - val_accuracy: 0.9015\n",
            "Epoch 13/100\n",
            "1663/1663 [==============================] - ETA: 0s - loss: 0.2714 - accuracy: 0.9007\n",
            "Epoch 00013: val_accuracy did not improve from 0.90245\n",
            "1663/1663 [==============================] - 61s 37ms/step - loss: 0.2714 - accuracy: 0.9007 - val_loss: 0.2792 - val_accuracy: 0.9022\n",
            "Epoch 14/100\n",
            "1663/1663 [==============================] - ETA: 0s - loss: 0.2668 - accuracy: 0.9015\n",
            "Epoch 00014: val_accuracy improved from 0.90245 to 0.90500, saving model to /content/checkpoint_entire_best.h5\n",
            "1663/1663 [==============================] - 61s 37ms/step - loss: 0.2668 - accuracy: 0.9015 - val_loss: 0.2706 - val_accuracy: 0.9050\n",
            "Epoch 15/100\n",
            "1663/1663 [==============================] - ETA: 0s - loss: 0.2613 - accuracy: 0.9032\n",
            "Epoch 00015: val_accuracy did not improve from 0.90500\n",
            "1663/1663 [==============================] - 61s 37ms/step - loss: 0.2613 - accuracy: 0.9032 - val_loss: 0.2702 - val_accuracy: 0.9039\n",
            "Epoch 16/100\n",
            "1663/1663 [==============================] - ETA: 0s - loss: 0.2580 - accuracy: 0.9043\n",
            "Epoch 00016: val_accuracy did not improve from 0.90500\n",
            "1663/1663 [==============================] - 61s 37ms/step - loss: 0.2580 - accuracy: 0.9043 - val_loss: 0.2751 - val_accuracy: 0.9030\n",
            "Epoch 17/100\n",
            "1663/1663 [==============================] - ETA: 0s - loss: 0.2528 - accuracy: 0.9059\n",
            "Epoch 00017: val_accuracy did not improve from 0.90500\n",
            "1663/1663 [==============================] - 61s 37ms/step - loss: 0.2528 - accuracy: 0.9059 - val_loss: 0.2704 - val_accuracy: 0.9032\n",
            "Epoch 18/100\n",
            "1663/1663 [==============================] - ETA: 0s - loss: 0.2495 - accuracy: 0.9062\n",
            "Epoch 00018: val_accuracy improved from 0.90500 to 0.90569, saving model to /content/checkpoint_entire_best.h5\n",
            "1663/1663 [==============================] - 61s 37ms/step - loss: 0.2495 - accuracy: 0.9062 - val_loss: 0.2697 - val_accuracy: 0.9057\n",
            "Epoch 19/100\n",
            "1663/1663 [==============================] - ETA: 0s - loss: 0.2454 - accuracy: 0.9080\n",
            "Epoch 00019: val_accuracy improved from 0.90569 to 0.90617, saving model to /content/checkpoint_entire_best.h5\n",
            "1663/1663 [==============================] - 61s 37ms/step - loss: 0.2454 - accuracy: 0.9080 - val_loss: 0.2680 - val_accuracy: 0.9062\n",
            "Epoch 20/100\n",
            "1663/1663 [==============================] - ETA: 0s - loss: 0.2425 - accuracy: 0.9089\n",
            "Epoch 00020: val_accuracy did not improve from 0.90617\n",
            "1663/1663 [==============================] - 61s 37ms/step - loss: 0.2425 - accuracy: 0.9089 - val_loss: 0.2713 - val_accuracy: 0.9055\n",
            "Epoch 21/100\n",
            "1663/1663 [==============================] - ETA: 0s - loss: 0.2397 - accuracy: 0.9088\n",
            "Epoch 00021: val_accuracy did not improve from 0.90617\n",
            "1663/1663 [==============================] - 61s 37ms/step - loss: 0.2397 - accuracy: 0.9088 - val_loss: 0.2744 - val_accuracy: 0.9046\n",
            "Epoch 22/100\n",
            "1663/1663 [==============================] - ETA: 0s - loss: 0.2357 - accuracy: 0.9101\n",
            "Epoch 00022: val_accuracy did not improve from 0.90617\n",
            "1663/1663 [==============================] - 61s 37ms/step - loss: 0.2357 - accuracy: 0.9101 - val_loss: 0.2699 - val_accuracy: 0.9050\n",
            "Epoch 23/100\n",
            "1663/1663 [==============================] - ETA: 0s - loss: 0.2332 - accuracy: 0.9112\n",
            "Epoch 00023: val_accuracy did not improve from 0.90617\n",
            "1663/1663 [==============================] - 61s 37ms/step - loss: 0.2332 - accuracy: 0.9112 - val_loss: 0.2724 - val_accuracy: 0.9046\n",
            "Epoch 24/100\n",
            "1663/1663 [==============================] - ETA: 0s - loss: 0.2308 - accuracy: 0.9117\n",
            "Epoch 00024: val_accuracy did not improve from 0.90617\n",
            "1663/1663 [==============================] - 61s 37ms/step - loss: 0.2308 - accuracy: 0.9117 - val_loss: 0.2768 - val_accuracy: 0.9058\n",
            "Epoch 25/100\n",
            "1663/1663 [==============================] - ETA: 0s - loss: 0.2291 - accuracy: 0.9125\n",
            "Epoch 00025: val_accuracy did not improve from 0.90617\n",
            "1663/1663 [==============================] - 61s 37ms/step - loss: 0.2291 - accuracy: 0.9125 - val_loss: 0.2724 - val_accuracy: 0.9034\n",
            "Epoch 26/100\n",
            "1663/1663 [==============================] - ETA: 0s - loss: 0.2277 - accuracy: 0.9133\n",
            "Epoch 00026: val_accuracy did not improve from 0.90617\n",
            "1663/1663 [==============================] - 61s 37ms/step - loss: 0.2277 - accuracy: 0.9133 - val_loss: 0.2683 - val_accuracy: 0.9053\n",
            "Epoch 27/100\n",
            "1663/1663 [==============================] - ETA: 0s - loss: 0.2239 - accuracy: 0.9140\n",
            "Epoch 00027: val_accuracy did not improve from 0.90617\n",
            "1663/1663 [==============================] - 61s 37ms/step - loss: 0.2239 - accuracy: 0.9140 - val_loss: 0.2740 - val_accuracy: 0.9049\n",
            "Epoch 28/100\n",
            "1663/1663 [==============================] - ETA: 0s - loss: 0.2235 - accuracy: 0.9140\n",
            "Epoch 00028: val_accuracy did not improve from 0.90617\n",
            "1663/1663 [==============================] - 61s 37ms/step - loss: 0.2235 - accuracy: 0.9140 - val_loss: 0.2739 - val_accuracy: 0.9061\n",
            "Epoch 29/100\n",
            "1663/1663 [==============================] - ETA: 0s - loss: 0.2204 - accuracy: 0.9145\n",
            "Epoch 00029: val_accuracy did not improve from 0.90617\n",
            "1663/1663 [==============================] - 61s 37ms/step - loss: 0.2204 - accuracy: 0.9145 - val_loss: 0.2758 - val_accuracy: 0.9061\n",
            "Epoch 30/100\n",
            "1663/1663 [==============================] - ETA: 0s - loss: 0.2195 - accuracy: 0.9152\n",
            "Epoch 00030: val_accuracy improved from 0.90617 to 0.90681, saving model to /content/checkpoint_entire_best.h5\n",
            "1663/1663 [==============================] - 61s 37ms/step - loss: 0.2195 - accuracy: 0.9152 - val_loss: 0.2755 - val_accuracy: 0.9068\n",
            "Epoch 31/100\n",
            "1663/1663 [==============================] - ETA: 0s - loss: 0.2167 - accuracy: 0.9163\n",
            "Epoch 00031: val_accuracy did not improve from 0.90681\n",
            "1663/1663 [==============================] - 61s 37ms/step - loss: 0.2167 - accuracy: 0.9163 - val_loss: 0.2732 - val_accuracy: 0.9045\n",
            "Epoch 32/100\n",
            "1663/1663 [==============================] - ETA: 0s - loss: 0.2145 - accuracy: 0.9175\n",
            "Epoch 00032: val_accuracy did not improve from 0.90681\n",
            "1663/1663 [==============================] - 61s 37ms/step - loss: 0.2145 - accuracy: 0.9175 - val_loss: 0.2803 - val_accuracy: 0.9060\n",
            "Epoch 33/100\n",
            "1663/1663 [==============================] - ETA: 0s - loss: 0.2129 - accuracy: 0.9174\n",
            "Epoch 00033: val_accuracy did not improve from 0.90681\n",
            "1663/1663 [==============================] - 61s 37ms/step - loss: 0.2129 - accuracy: 0.9174 - val_loss: 0.2743 - val_accuracy: 0.9060\n",
            "Epoch 34/100\n",
            "1663/1663 [==============================] - ETA: 0s - loss: 0.2109 - accuracy: 0.9182\n",
            "Epoch 00034: val_accuracy did not improve from 0.90681\n",
            "1663/1663 [==============================] - 61s 37ms/step - loss: 0.2109 - accuracy: 0.9182 - val_loss: 0.2788 - val_accuracy: 0.9059\n",
            "Epoch 35/100\n",
            "1663/1663 [==============================] - ETA: 0s - loss: 0.2093 - accuracy: 0.9184\n",
            "Epoch 00035: val_accuracy improved from 0.90681 to 0.90691, saving model to /content/checkpoint_entire_best.h5\n",
            "1663/1663 [==============================] - 61s 37ms/step - loss: 0.2093 - accuracy: 0.9184 - val_loss: 0.2777 - val_accuracy: 0.9069\n",
            "Epoch 36/100\n",
            "1663/1663 [==============================] - ETA: 0s - loss: 0.2075 - accuracy: 0.9186\n",
            "Epoch 00036: val_accuracy improved from 0.90691 to 0.90713, saving model to /content/checkpoint_entire_best.h5\n",
            "1663/1663 [==============================] - 61s 37ms/step - loss: 0.2075 - accuracy: 0.9186 - val_loss: 0.2816 - val_accuracy: 0.9071\n",
            "Epoch 37/100\n",
            "1663/1663 [==============================] - ETA: 0s - loss: 0.2075 - accuracy: 0.9190\n",
            "Epoch 00037: val_accuracy improved from 0.90713 to 0.90782, saving model to /content/checkpoint_entire_best.h5\n",
            "1663/1663 [==============================] - 61s 37ms/step - loss: 0.2075 - accuracy: 0.9190 - val_loss: 0.2769 - val_accuracy: 0.9078\n",
            "Epoch 38/100\n",
            "1663/1663 [==============================] - ETA: 0s - loss: 0.2050 - accuracy: 0.9197\n",
            "Epoch 00038: val_accuracy did not improve from 0.90782\n",
            "1663/1663 [==============================] - 61s 37ms/step - loss: 0.2050 - accuracy: 0.9197 - val_loss: 0.2812 - val_accuracy: 0.9054\n",
            "Epoch 39/100\n",
            "1663/1663 [==============================] - ETA: 0s - loss: 0.2037 - accuracy: 0.9203\n",
            "Epoch 00039: val_accuracy did not improve from 0.90782\n",
            "1663/1663 [==============================] - 61s 37ms/step - loss: 0.2037 - accuracy: 0.9203 - val_loss: 0.2800 - val_accuracy: 0.9076\n",
            "Epoch 40/100\n",
            "1663/1663 [==============================] - ETA: 0s - loss: 0.2021 - accuracy: 0.9211\n",
            "Epoch 00040: val_accuracy did not improve from 0.90782\n",
            "1663/1663 [==============================] - 61s 37ms/step - loss: 0.2021 - accuracy: 0.9211 - val_loss: 0.2727 - val_accuracy: 0.9063\n",
            "Epoch 41/100\n",
            "1663/1663 [==============================] - ETA: 0s - loss: 0.2010 - accuracy: 0.9215\n",
            "Epoch 00041: val_accuracy did not improve from 0.90782\n",
            "1663/1663 [==============================] - 61s 37ms/step - loss: 0.2010 - accuracy: 0.9215 - val_loss: 0.2828 - val_accuracy: 0.9055\n",
            "Epoch 42/100\n",
            "1663/1663 [==============================] - ETA: 0s - loss: 0.2004 - accuracy: 0.9218\n",
            "Epoch 00042: val_accuracy did not improve from 0.90782\n",
            "1663/1663 [==============================] - 61s 37ms/step - loss: 0.2004 - accuracy: 0.9218 - val_loss: 0.2854 - val_accuracy: 0.9052\n",
            "Epoch 43/100\n",
            "1663/1663 [==============================] - ETA: 0s - loss: 0.1987 - accuracy: 0.9225\n",
            "Epoch 00043: val_accuracy did not improve from 0.90782\n",
            "1663/1663 [==============================] - 61s 37ms/step - loss: 0.1987 - accuracy: 0.9225 - val_loss: 0.2829 - val_accuracy: 0.9061\n",
            "Epoch 44/100\n",
            "1663/1663 [==============================] - ETA: 0s - loss: 0.1986 - accuracy: 0.9219\n",
            "Epoch 00044: val_accuracy did not improve from 0.90782\n",
            "1663/1663 [==============================] - 61s 37ms/step - loss: 0.1986 - accuracy: 0.9219 - val_loss: 0.2816 - val_accuracy: 0.9051\n",
            "Epoch 45/100\n",
            "1663/1663 [==============================] - ETA: 0s - loss: 0.1961 - accuracy: 0.9231\n",
            "Epoch 00045: val_accuracy did not improve from 0.90782\n",
            "1663/1663 [==============================] - 61s 37ms/step - loss: 0.1961 - accuracy: 0.9231 - val_loss: 0.2840 - val_accuracy: 0.9046\n",
            "Epoch 46/100\n",
            "1663/1663 [==============================] - ETA: 0s - loss: 0.1950 - accuracy: 0.9232\n",
            "Epoch 00046: val_accuracy did not improve from 0.90782\n",
            "1663/1663 [==============================] - 61s 37ms/step - loss: 0.1950 - accuracy: 0.9232 - val_loss: 0.2884 - val_accuracy: 0.9070\n",
            "Epoch 47/100\n",
            "1663/1663 [==============================] - ETA: 0s - loss: 0.1943 - accuracy: 0.9235\n",
            "Epoch 00047: val_accuracy did not improve from 0.90782\n",
            "1663/1663 [==============================] - 61s 37ms/step - loss: 0.1943 - accuracy: 0.9235 - val_loss: 0.2844 - val_accuracy: 0.9049\n",
            "Epoch 48/100\n",
            "1663/1663 [==============================] - ETA: 0s - loss: 0.1925 - accuracy: 0.9240\n",
            "Epoch 00048: val_accuracy did not improve from 0.90782\n",
            "1663/1663 [==============================] - 61s 37ms/step - loss: 0.1925 - accuracy: 0.9240 - val_loss: 0.2910 - val_accuracy: 0.9061\n",
            "Epoch 49/100\n",
            "1663/1663 [==============================] - ETA: 0s - loss: 0.1917 - accuracy: 0.9242\n",
            "Epoch 00049: val_accuracy did not improve from 0.90782\n",
            "1663/1663 [==============================] - 61s 37ms/step - loss: 0.1917 - accuracy: 0.9242 - val_loss: 0.2884 - val_accuracy: 0.9053\n",
            "Epoch 50/100\n",
            "1663/1663 [==============================] - ETA: 0s - loss: 0.1898 - accuracy: 0.9256\n",
            "Epoch 00050: val_accuracy did not improve from 0.90782\n",
            "1663/1663 [==============================] - 62s 37ms/step - loss: 0.1898 - accuracy: 0.9256 - val_loss: 0.2822 - val_accuracy: 0.9070\n",
            "Epoch 51/100\n",
            "1663/1663 [==============================] - ETA: 0s - loss: 0.1896 - accuracy: 0.9248\n",
            "Epoch 00051: val_accuracy did not improve from 0.90782\n",
            "1663/1663 [==============================] - 62s 37ms/step - loss: 0.1896 - accuracy: 0.9248 - val_loss: 0.2907 - val_accuracy: 0.9064\n",
            "Epoch 52/100\n",
            "1663/1663 [==============================] - ETA: 0s - loss: 0.1879 - accuracy: 0.9254\n",
            "Epoch 00052: val_accuracy did not improve from 0.90782\n",
            "1663/1663 [==============================] - 62s 37ms/step - loss: 0.1879 - accuracy: 0.9254 - val_loss: 0.2820 - val_accuracy: 0.9063\n",
            "Epoch 53/100\n",
            "1663/1663 [==============================] - ETA: 0s - loss: 0.1867 - accuracy: 0.9264\n",
            "Epoch 00053: val_accuracy did not improve from 0.90782\n",
            "1663/1663 [==============================] - 62s 37ms/step - loss: 0.1867 - accuracy: 0.9264 - val_loss: 0.2884 - val_accuracy: 0.9074\n",
            "Epoch 54/100\n",
            "1663/1663 [==============================] - ETA: 0s - loss: 0.1847 - accuracy: 0.9268\n",
            "Epoch 00054: val_accuracy did not improve from 0.90782\n",
            "1663/1663 [==============================] - 62s 37ms/step - loss: 0.1847 - accuracy: 0.9268 - val_loss: 0.2865 - val_accuracy: 0.9074\n",
            "Epoch 55/100\n",
            "1663/1663 [==============================] - ETA: 0s - loss: 0.1849 - accuracy: 0.9270\n",
            "Epoch 00055: val_accuracy did not improve from 0.90782\n",
            "1663/1663 [==============================] - 62s 37ms/step - loss: 0.1849 - accuracy: 0.9270 - val_loss: 0.2867 - val_accuracy: 0.9052\n",
            "Epoch 56/100\n",
            "1663/1663 [==============================] - ETA: 0s - loss: 0.1856 - accuracy: 0.9258\n",
            "Epoch 00056: val_accuracy did not improve from 0.90782\n",
            "1663/1663 [==============================] - 62s 37ms/step - loss: 0.1856 - accuracy: 0.9258 - val_loss: 0.2901 - val_accuracy: 0.9074\n",
            "Epoch 57/100\n",
            "1663/1663 [==============================] - ETA: 0s - loss: 0.1840 - accuracy: 0.9272\n",
            "Epoch 00057: val_accuracy did not improve from 0.90782\n",
            "1663/1663 [==============================] - 62s 37ms/step - loss: 0.1840 - accuracy: 0.9272 - val_loss: 0.2924 - val_accuracy: 0.9065\n",
            "Epoch 58/100\n",
            "1663/1663 [==============================] - ETA: 0s - loss: 0.1824 - accuracy: 0.9278\n",
            "Epoch 00058: val_accuracy did not improve from 0.90782\n",
            "1663/1663 [==============================] - 62s 37ms/step - loss: 0.1824 - accuracy: 0.9278 - val_loss: 0.2917 - val_accuracy: 0.9054\n",
            "Epoch 59/100\n",
            "1662/1663 [============================>.] - ETA: 0s - loss: 0.1807 - accuracy: 0.9282\n",
            "Epoch 00059: val_accuracy did not improve from 0.90782\n",
            "1663/1663 [==============================] - 62s 37ms/step - loss: 0.1806 - accuracy: 0.9282 - val_loss: 0.2954 - val_accuracy: 0.9054\n",
            "Epoch 60/100\n",
            "1663/1663 [==============================] - ETA: 0s - loss: 0.1802 - accuracy: 0.9276\n",
            "Epoch 00060: val_accuracy did not improve from 0.90782\n",
            "1663/1663 [==============================] - 62s 37ms/step - loss: 0.1802 - accuracy: 0.9276 - val_loss: 0.2893 - val_accuracy: 0.9074\n",
            "Epoch 61/100\n",
            "1663/1663 [==============================] - ETA: 0s - loss: 0.1798 - accuracy: 0.9282\n",
            "Epoch 00061: val_accuracy did not improve from 0.90782\n",
            "1663/1663 [==============================] - 62s 37ms/step - loss: 0.1798 - accuracy: 0.9282 - val_loss: 0.2990 - val_accuracy: 0.9054\n",
            "Epoch 62/100\n",
            "1663/1663 [==============================] - ETA: 0s - loss: 0.1791 - accuracy: 0.9291\n",
            "Epoch 00062: val_accuracy did not improve from 0.90782\n",
            "1663/1663 [==============================] - 62s 37ms/step - loss: 0.1791 - accuracy: 0.9291 - val_loss: 0.2934 - val_accuracy: 0.9049\n",
            "Epoch 63/100\n",
            "1663/1663 [==============================] - ETA: 0s - loss: 0.1796 - accuracy: 0.9284\n",
            "Epoch 00063: val_accuracy did not improve from 0.90782\n",
            "1663/1663 [==============================] - 62s 37ms/step - loss: 0.1796 - accuracy: 0.9284 - val_loss: 0.2919 - val_accuracy: 0.9061\n",
            "Epoch 64/100\n",
            "1663/1663 [==============================] - ETA: 0s - loss: 0.1766 - accuracy: 0.9293\n",
            "Epoch 00064: val_accuracy did not improve from 0.90782\n",
            "1663/1663 [==============================] - 62s 37ms/step - loss: 0.1766 - accuracy: 0.9293 - val_loss: 0.2926 - val_accuracy: 0.9063\n",
            "Epoch 65/100\n",
            "1662/1663 [============================>.] - ETA: 0s - loss: 0.1762 - accuracy: 0.9301\n",
            "Epoch 00065: val_accuracy did not improve from 0.90782\n",
            "1663/1663 [==============================] - 62s 37ms/step - loss: 0.1761 - accuracy: 0.9301 - val_loss: 0.2994 - val_accuracy: 0.9049\n",
            "Epoch 66/100\n",
            "1663/1663 [==============================] - ETA: 0s - loss: 0.1759 - accuracy: 0.9302\n",
            "Epoch 00066: val_accuracy did not improve from 0.90782\n",
            "1663/1663 [==============================] - 62s 37ms/step - loss: 0.1759 - accuracy: 0.9302 - val_loss: 0.3007 - val_accuracy: 0.9060\n",
            "Epoch 67/100\n",
            "1663/1663 [==============================] - ETA: 0s - loss: 0.1749 - accuracy: 0.9307\n",
            "Epoch 00067: val_accuracy did not improve from 0.90782\n",
            "1663/1663 [==============================] - 62s 37ms/step - loss: 0.1749 - accuracy: 0.9307 - val_loss: 0.2982 - val_accuracy: 0.9075\n",
            "Epoch 68/100\n",
            "1663/1663 [==============================] - ETA: 0s - loss: 0.1748 - accuracy: 0.9301\n",
            "Epoch 00068: val_accuracy improved from 0.90782 to 0.90840, saving model to /content/checkpoint_entire_best.h5\n",
            "1663/1663 [==============================] - 62s 37ms/step - loss: 0.1748 - accuracy: 0.9301 - val_loss: 0.2989 - val_accuracy: 0.9084\n",
            "Epoch 69/100\n",
            "1662/1663 [============================>.] - ETA: 0s - loss: 0.1743 - accuracy: 0.9306\n",
            "Epoch 00069: val_accuracy did not improve from 0.90840\n",
            "1663/1663 [==============================] - 62s 37ms/step - loss: 0.1743 - accuracy: 0.9306 - val_loss: 0.2934 - val_accuracy: 0.9078\n",
            "Epoch 70/100\n",
            "1663/1663 [==============================] - ETA: 0s - loss: 0.1732 - accuracy: 0.9308\n",
            "Epoch 00070: val_accuracy did not improve from 0.90840\n",
            "1663/1663 [==============================] - 62s 37ms/step - loss: 0.1732 - accuracy: 0.9308 - val_loss: 0.2967 - val_accuracy: 0.9071\n",
            "Epoch 71/100\n",
            "1663/1663 [==============================] - ETA: 0s - loss: 0.1713 - accuracy: 0.9315\n",
            "Epoch 00071: val_accuracy did not improve from 0.90840\n",
            "1663/1663 [==============================] - 62s 37ms/step - loss: 0.1713 - accuracy: 0.9315 - val_loss: 0.3039 - val_accuracy: 0.9038\n",
            "Epoch 72/100\n",
            "1663/1663 [==============================] - ETA: 0s - loss: 0.1710 - accuracy: 0.9318\n",
            "Epoch 00072: val_accuracy did not improve from 0.90840\n",
            "1663/1663 [==============================] - 62s 37ms/step - loss: 0.1710 - accuracy: 0.9318 - val_loss: 0.2963 - val_accuracy: 0.9075\n",
            "Epoch 73/100\n",
            "1663/1663 [==============================] - ETA: 0s - loss: 0.1711 - accuracy: 0.9314\n",
            "Epoch 00073: val_accuracy did not improve from 0.90840\n",
            "1663/1663 [==============================] - 62s 37ms/step - loss: 0.1711 - accuracy: 0.9314 - val_loss: 0.2966 - val_accuracy: 0.9051\n",
            "Epoch 74/100\n",
            "1663/1663 [==============================] - ETA: 0s - loss: 0.1705 - accuracy: 0.9316\n",
            "Epoch 00074: val_accuracy did not improve from 0.90840\n",
            "1663/1663 [==============================] - 62s 37ms/step - loss: 0.1705 - accuracy: 0.9316 - val_loss: 0.2988 - val_accuracy: 0.9059\n",
            "Epoch 75/100\n",
            "1662/1663 [============================>.] - ETA: 0s - loss: 0.1710 - accuracy: 0.9309\n",
            "Epoch 00075: val_accuracy did not improve from 0.90840\n",
            "1663/1663 [==============================] - 62s 37ms/step - loss: 0.1709 - accuracy: 0.9310 - val_loss: 0.2995 - val_accuracy: 0.9082\n",
            "Epoch 76/100\n",
            "1663/1663 [==============================] - ETA: 0s - loss: 0.1689 - accuracy: 0.9325\n",
            "Epoch 00076: val_accuracy did not improve from 0.90840\n",
            "1663/1663 [==============================] - 62s 37ms/step - loss: 0.1689 - accuracy: 0.9325 - val_loss: 0.2913 - val_accuracy: 0.9073\n",
            "Epoch 77/100\n",
            "1663/1663 [==============================] - ETA: 0s - loss: 0.1677 - accuracy: 0.9328\n",
            "Epoch 00077: val_accuracy did not improve from 0.90840\n",
            "1663/1663 [==============================] - 62s 37ms/step - loss: 0.1677 - accuracy: 0.9328 - val_loss: 0.3023 - val_accuracy: 0.9061\n",
            "Epoch 78/100\n",
            "1663/1663 [==============================] - ETA: 0s - loss: 0.1682 - accuracy: 0.9326\n",
            "Epoch 00078: val_accuracy did not improve from 0.90840\n",
            "1663/1663 [==============================] - 62s 38ms/step - loss: 0.1682 - accuracy: 0.9326 - val_loss: 0.2985 - val_accuracy: 0.9060\n",
            "Epoch 79/100\n",
            "1663/1663 [==============================] - ETA: 0s - loss: 0.1667 - accuracy: 0.9335\n",
            "Epoch 00079: val_accuracy did not improve from 0.90840\n",
            "1663/1663 [==============================] - 62s 37ms/step - loss: 0.1667 - accuracy: 0.9335 - val_loss: 0.2999 - val_accuracy: 0.9083\n",
            "Epoch 80/100\n",
            "1663/1663 [==============================] - ETA: 0s - loss: 0.1672 - accuracy: 0.9330\n",
            "Epoch 00080: val_accuracy did not improve from 0.90840\n",
            "1663/1663 [==============================] - 62s 37ms/step - loss: 0.1672 - accuracy: 0.9330 - val_loss: 0.3032 - val_accuracy: 0.9056\n",
            "Epoch 81/100\n",
            "1663/1663 [==============================] - ETA: 0s - loss: 0.1660 - accuracy: 0.9339\n",
            "Epoch 00081: val_accuracy did not improve from 0.90840\n",
            "1663/1663 [==============================] - 62s 37ms/step - loss: 0.1660 - accuracy: 0.9339 - val_loss: 0.3029 - val_accuracy: 0.9055\n",
            "Epoch 82/100\n",
            "1663/1663 [==============================] - ETA: 0s - loss: 0.1644 - accuracy: 0.9342\n",
            "Epoch 00082: val_accuracy did not improve from 0.90840\n",
            "1663/1663 [==============================] - 62s 37ms/step - loss: 0.1644 - accuracy: 0.9342 - val_loss: 0.3052 - val_accuracy: 0.9069\n",
            "Epoch 83/100\n",
            "1663/1663 [==============================] - ETA: 0s - loss: 0.1644 - accuracy: 0.9342\n",
            "Epoch 00083: val_accuracy did not improve from 0.90840\n",
            "1663/1663 [==============================] - 62s 37ms/step - loss: 0.1644 - accuracy: 0.9342 - val_loss: 0.3066 - val_accuracy: 0.9064\n",
            "Epoch 84/100\n",
            "1663/1663 [==============================] - ETA: 0s - loss: 0.1646 - accuracy: 0.9340\n",
            "Epoch 00084: val_accuracy did not improve from 0.90840\n",
            "1663/1663 [==============================] - 62s 37ms/step - loss: 0.1646 - accuracy: 0.9340 - val_loss: 0.3033 - val_accuracy: 0.9047\n",
            "Epoch 85/100\n",
            "1663/1663 [==============================] - ETA: 0s - loss: 0.1626 - accuracy: 0.9352\n",
            "Epoch 00085: val_accuracy did not improve from 0.90840\n",
            "1663/1663 [==============================] - 62s 37ms/step - loss: 0.1626 - accuracy: 0.9352 - val_loss: 0.3104 - val_accuracy: 0.9062\n",
            "Epoch 86/100\n",
            "1662/1663 [============================>.] - ETA: 0s - loss: 0.1647 - accuracy: 0.9343\n",
            "Epoch 00086: val_accuracy did not improve from 0.90840\n",
            "1663/1663 [==============================] - 62s 37ms/step - loss: 0.1647 - accuracy: 0.9343 - val_loss: 0.3017 - val_accuracy: 0.9057\n",
            "Epoch 87/100\n",
            "1663/1663 [==============================] - ETA: 0s - loss: 0.1614 - accuracy: 0.9348\n",
            "Epoch 00087: val_accuracy did not improve from 0.90840\n",
            "1663/1663 [==============================] - 62s 37ms/step - loss: 0.1614 - accuracy: 0.9348 - val_loss: 0.3071 - val_accuracy: 0.9053\n",
            "Epoch 88/100\n",
            "1663/1663 [==============================] - ETA: 0s - loss: 0.1616 - accuracy: 0.9349\n",
            "Epoch 00088: val_accuracy did not improve from 0.90840\n",
            "1663/1663 [==============================] - 62s 37ms/step - loss: 0.1616 - accuracy: 0.9349 - val_loss: 0.3045 - val_accuracy: 0.9060\n",
            "Epoch 89/100\n",
            "1663/1663 [==============================] - ETA: 0s - loss: 0.1610 - accuracy: 0.9354\n",
            "Epoch 00089: val_accuracy did not improve from 0.90840\n",
            "1663/1663 [==============================] - 62s 37ms/step - loss: 0.1610 - accuracy: 0.9354 - val_loss: 0.3047 - val_accuracy: 0.9066\n",
            "Epoch 90/100\n",
            "1663/1663 [==============================] - ETA: 0s - loss: 0.1602 - accuracy: 0.9353\n",
            "Epoch 00090: val_accuracy did not improve from 0.90840\n",
            "1663/1663 [==============================] - 62s 37ms/step - loss: 0.1602 - accuracy: 0.9353 - val_loss: 0.3101 - val_accuracy: 0.9056\n",
            "Epoch 91/100\n",
            "1663/1663 [==============================] - ETA: 0s - loss: 0.1610 - accuracy: 0.9352\n",
            "Epoch 00091: val_accuracy did not improve from 0.90840\n",
            "1663/1663 [==============================] - 62s 37ms/step - loss: 0.1610 - accuracy: 0.9352 - val_loss: 0.3122 - val_accuracy: 0.9048\n",
            "Epoch 92/100\n",
            "1663/1663 [==============================] - ETA: 0s - loss: 0.1599 - accuracy: 0.9365\n",
            "Epoch 00092: val_accuracy did not improve from 0.90840\n",
            "1663/1663 [==============================] - 62s 37ms/step - loss: 0.1599 - accuracy: 0.9365 - val_loss: 0.3047 - val_accuracy: 0.9059\n",
            "Epoch 93/100\n",
            "1663/1663 [==============================] - ETA: 0s - loss: 0.1585 - accuracy: 0.9360\n",
            "Epoch 00093: val_accuracy did not improve from 0.90840\n",
            "1663/1663 [==============================] - 62s 37ms/step - loss: 0.1585 - accuracy: 0.9360 - val_loss: 0.3044 - val_accuracy: 0.9068\n",
            "Epoch 94/100\n",
            "1663/1663 [==============================] - ETA: 0s - loss: 0.1594 - accuracy: 0.9360\n",
            "Epoch 00094: val_accuracy did not improve from 0.90840\n",
            "1663/1663 [==============================] - 62s 37ms/step - loss: 0.1594 - accuracy: 0.9360 - val_loss: 0.3098 - val_accuracy: 0.9056\n",
            "Epoch 95/100\n",
            "1663/1663 [==============================] - ETA: 0s - loss: 0.1584 - accuracy: 0.9362\n",
            "Epoch 00095: val_accuracy did not improve from 0.90840\n",
            "1663/1663 [==============================] - 62s 37ms/step - loss: 0.1584 - accuracy: 0.9362 - val_loss: 0.3047 - val_accuracy: 0.9070\n",
            "Epoch 96/100\n",
            "1663/1663 [==============================] - ETA: 0s - loss: 0.1587 - accuracy: 0.9365\n",
            "Epoch 00096: val_accuracy did not improve from 0.90840\n",
            "1663/1663 [==============================] - 62s 37ms/step - loss: 0.1587 - accuracy: 0.9365 - val_loss: 0.3099 - val_accuracy: 0.9065\n",
            "Epoch 97/100\n",
            "1663/1663 [==============================] - ETA: 0s - loss: 0.1571 - accuracy: 0.9372\n",
            "Epoch 00097: val_accuracy did not improve from 0.90840\n",
            "1663/1663 [==============================] - 62s 37ms/step - loss: 0.1571 - accuracy: 0.9372 - val_loss: 0.3194 - val_accuracy: 0.9053\n",
            "Epoch 98/100\n",
            "1663/1663 [==============================] - ETA: 0s - loss: 0.1565 - accuracy: 0.9369\n",
            "Epoch 00098: val_accuracy did not improve from 0.90840\n",
            "1663/1663 [==============================] - 62s 37ms/step - loss: 0.1565 - accuracy: 0.9369 - val_loss: 0.3152 - val_accuracy: 0.9053\n",
            "Epoch 99/100\n",
            "1663/1663 [==============================] - ETA: 0s - loss: 0.1553 - accuracy: 0.9377\n",
            "Epoch 00099: val_accuracy did not improve from 0.90840\n",
            "1663/1663 [==============================] - 62s 37ms/step - loss: 0.1553 - accuracy: 0.9377 - val_loss: 0.3101 - val_accuracy: 0.9057\n",
            "Epoch 100/100\n",
            "1662/1663 [============================>.] - ETA: 0s - loss: 0.1557 - accuracy: 0.9378\n",
            "Epoch 00100: val_accuracy did not improve from 0.90840\n",
            "1663/1663 [==============================] - 62s 37ms/step - loss: 0.1557 - accuracy: 0.9378 - val_loss: 0.3174 - val_accuracy: 0.9049\n"
          ],
          "name": "stdout"
        }
      ]
    },
    {
      "cell_type": "markdown",
      "metadata": {
        "id": "0bk6muKLYfaP",
        "colab_type": "text"
      },
      "source": [
        "### 러닝 커브 출력"
      ]
    },
    {
      "cell_type": "code",
      "metadata": {
        "id": "kqCI2gTYWRCC",
        "colab_type": "code",
        "colab": {
          "base_uri": "https://localhost:8080/",
          "height": 573
        },
        "outputId": "be5b67b3-3907-4152-928a-6c38a376eb77"
      },
      "source": [
        "import matplotlib.pyplot as plt\n",
        "\n",
        "# summarize history for accuracy\n",
        "plt.plot(history.history['accuracy'])\n",
        "plt.plot(history.history['val_accuracy'])\n",
        "plt.title('model accuracy')\n",
        "plt.ylabel('accuracy')\n",
        "plt.xlabel('epoch')\n",
        "plt.legend(['train', 'test'], loc='upper left')\n",
        "plt.show()\n",
        "# summarize history for loss\n",
        "plt.plot(history.history['loss'])\n",
        "plt.plot(history.history['val_loss'])\n",
        "plt.title('model loss')\n",
        "plt.ylabel('loss')\n",
        "plt.xlabel('epoch')\n",
        "plt.legend(['train', 'test'], loc='upper left')\n",
        "plt.show()"
      ],
      "execution_count": 11,
      "outputs": [
        {
          "output_type": "display_data",
          "data": {
            "image/png": "[encoded data removed]",
            "text/plain": [
              "<Figure size 432x288 with 1 Axes>"
            ]
          },
          "metadata": {
            "tags": [],
            "needs_background": "light"
          }
        },
        {
          "output_type": "display_data",
          "data": {
            "image/png": "[encoded data removed]",
            "text/plain": [
              "<Figure size 432x288 with 1 Axes>"
            ]
          },
          "metadata": {
            "tags": [],
            "needs_background": "light"
          }
        }
      ]
    },
    {
      "cell_type": "markdown",
      "metadata": {
        "colab_type": "text",
        "id": "QR9WUYXxqtfR"
      },
      "source": [
        "# **4. 모델 저장**"
      ]
    },
    {
      "cell_type": "code",
      "metadata": {
        "colab_type": "code",
        "id": "Wi9yznz4qvzK",
        "colab": {}
      },
      "source": [
        "save_path = '/content/'\n",
        "team_name = 'team21'\n",
        "\n",
        "# 트레이닝된 전체 모델을 저장합니다.\n",
        "model.save(save_path +  'model_entire_'+ team_name + '.h5')"
      ],
      "execution_count": 8,
      "outputs": []
    },
    {
      "cell_type": "markdown",
      "metadata": {
        "colab_type": "text",
        "id": "4aPbgI-c-Kj8"
      },
      "source": [
        "# **5. 모델 로드 및 평가**"
      ]
    },
    {
      "cell_type": "markdown",
      "metadata": {
        "id": "HbhGT3VRdqwR",
        "colab_type": "text"
      },
      "source": [
        "### 전체 모델 평가"
      ]
    },
    {
      "cell_type": "code",
      "metadata": {
        "colab_type": "code",
        "id": "y7WONVxH-Kt6",
        "colab": {
          "base_uri": "https://localhost:8080/",
          "height": 51
        },
        "outputId": "8b862c96-6556-4e31-b87f-847ed9901c4b"
      },
      "source": [
        "save_path = '/content/'\n",
        "team_name = 'team21'\n",
        "\n",
        "model = keras.models.load_model(save_path + 'model_entire_' + team_name + '.h5')\n",
        "model.evaluate(x_test_after, y_test)"
      ],
      "execution_count": 9,
      "outputs": [
        {
          "output_type": "stream",
          "text": [
            "588/588 [==============================] - 3s 5ms/step - loss: 0.3174 - accuracy: 0.9049\n"
          ],
          "name": "stdout"
        },
        {
          "output_type": "execute_result",
          "data": {
            "text/plain": [
              "[0.3174118101596832, 0.9048936367034912]"
            ]
          },
          "metadata": {
            "tags": []
          },
          "execution_count": 9
        }
      ]
    },
    {
      "cell_type": "markdown",
      "metadata": {
        "id": "Z3IPtO37dqlE",
        "colab_type": "text"
      },
      "source": [
        "### 최고 모델 평가"
      ]
    },
    {
      "cell_type": "code",
      "metadata": {
        "id": "SHKyMbEKdyyI",
        "colab_type": "code",
        "colab": {
          "base_uri": "https://localhost:8080/",
          "height": 51
        },
        "outputId": "4b4113fb-af7e-4c9b-974b-d795c2765cfb"
      },
      "source": [
        "model = keras.models.load_model('/content/checkpoint_entire_best.h5')\n",
        "model.evaluate(x_test_after, y_test)"
      ],
      "execution_count": 10,
      "outputs": [
        {
          "output_type": "stream",
          "text": [
            "588/588 [==============================] - 3s 4ms/step - loss: 0.2989 - accuracy: 0.9084\n"
          ],
          "name": "stdout"
        },
        {
          "output_type": "execute_result",
          "data": {
            "text/plain": [
              "[0.2988874316215515, 0.9084042310714722]"
            ]
          },
          "metadata": {
            "tags": []
          },
          "execution_count": 10
        }
      ]
    }
  ]
}